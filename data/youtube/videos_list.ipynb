{
 "cells": [
  {
   "cell_type": "markdown",
   "metadata": {},
   "source": [
    "Youtubers list:\n",
    "- Benjamin Cowen - UCRvqjQPSeaWn-uEx-w0XOIg\n",
    "- Brian Jung - UCQglaVhGOBI0BR5S6IJnQPg\n",
    "- Coin bureau - UCqK_GSMbpiV8spgD3ZGloSw\n",
    "- Craig Percoco - UCL-QLzGmf468WAL1U-9g0qA\n",
    "- Coinsider - UCi7egjf0JDHuhznWugXq4hA\n",
    "- Virtual Bacon - UCcrEA_xd9Ldf1C8DIJYdyyA\n",
    "- Krypto Cove - UCAZ9PHafkZUFsGRsRPPWaxQ\n",
    "- Crypto Insight - UCeho-pOR48pgRS5OQVifVCA\n",
    "- Crypto Insight Desi - UCCbenQd7OteG1pG2Dn3tDMA\n",
    "- CoinGecko - UC-OTgwOAI7KmP0eDAtqN3Ow\n",
    "- Francis Dhun Uncensored - UC4RzRP-dlf-RrCl3iHQi77A\n",
    "- JRNY Crypto - UC188KLMYLLGqVJZdYq7mYFw\n",
    "- InvestAnswers - UClgJyzwGs-GyaNxUHcLZrkg\n",
    "- Digital Asset News - UCJgHxpqfhWEEjYH9cLXqhIQ\n",
    "- Crypto Banter - UCN9Nj4tjXbVTLYWN0EKly_Q\n",
    "- Jerry Banfield Crypto - UCuP9POBXk191J_QWpR8a0TA\n",
    "- Ivan on Tech - UCrYmtJBtLdtm2ov84ulV-yg\n",
    "- Scott Melker - UCxIU1RFIdDpvA8VOITswQ1A\n",
    "\n",
    "<br/>\n",
    "Future:\n",
    "- Crypto Mobi - Urdu"
   ]
  },
  {
   "cell_type": "code",
   "execution_count": 51,
   "metadata": {},
   "outputs": [],
   "source": [
    "import pandas as pd\n",
    "import pymongo\n",
    "from pymongo import MongoClient\n",
    "from googleapiclient.discovery import build\n",
    "import pandas as pd\n",
    "import seaborn as sns\n",
    "from dotenv import load_dotenv, dotenv_values\n",
    "import os\n",
    "import json\n",
    "\n",
    "from langchain.document_loaders import YoutubeLoader\n",
    "from langchain.llms import OpenAI\n",
    "from langchain.chains.summarize import load_summarize_chain\n",
    "\n",
    "from langchain.chains import LLMChain\n",
    "from langchain.prompts import PromptTemplate\n",
    "from langchain_community.llms.octoai_endpoint import OctoAIEndpoint\n",
    "from langchain.text_splitter import RecursiveCharacterTextSplitter\n",
    "\n",
    "from openai import OpenAI\n",
    "import openai\n",
    "import os\n",
    "import together\n",
    "\n",
    "import together\n",
    "\n",
    "import logging\n",
    "from typing import Any, Dict, List, Mapping, Optional\n",
    "\n",
    "from pydantic import Extra, Field, root_validator\n",
    "\n",
    "from langchain.callbacks.manager import CallbackManagerForLLMRun\n",
    "from langchain.llms.base import LLM\n",
    "from langchain.llms.utils import enforce_stop_tokens\n",
    "from langchain.utils import get_from_dict_or_env\n",
    "\n",
    "from IPython.display import display, Markdown\n",
    "\n",
    "from anthropic import Anthropic\n",
    "import json\n",
    "import re\n",
    "from pprint import pprint\n"
   ]
  },
  {
   "cell_type": "code",
   "execution_count": 2,
   "metadata": {},
   "outputs": [],
   "source": [
    "load_dotenv()\n",
    "api_key = os.environ.get('YOUTUBE_API_KEY')"
   ]
  },
  {
   "cell_type": "code",
   "execution_count": 3,
   "metadata": {},
   "outputs": [],
   "source": [
    "youtube = build(\"youtube\", \"v3\", developerKey=api_key)"
   ]
  },
  {
   "cell_type": "code",
   "execution_count": 4,
   "metadata": {},
   "outputs": [],
   "source": [
    "channel_ids = []\n",
    "\n",
    "with open('channel_ids.json') as f:\n",
    "    channel_data = json.load(f)\n",
    "\n",
    "# Loop over each dictionary in the list\n",
    "for channel in channel_data:\n",
    "    # Access the 'id' key of each dictionary and append it to the list\n",
    "    channel_ids.append(channel['id'])\n",
    "\n",
    "def get_chann_stats(youtube, channel_ids):\n",
    "    all_data=[]\n",
    "    request = youtube.channels().list(\n",
    "              part='snippet, contentDetails, statistics',\n",
    "              id=','.join(channel_ids))\n",
    "    response = request.execute()\n",
    "\n",
    "    for i in range(len(response['items'])):\n",
    "        data=dict(Channel_name=response['items'][i]['snippet']['title'],\n",
    "                 Subscribers=response['items'][i]['statistics']['subscriberCount'],\n",
    "                 Views=response['items'][i]['statistics']['viewCount'],\n",
    "                 Total_videos=response['items'][i]['statistics']['videoCount'],\n",
    "                 Playlist_id=response['items'][i]['contentDetails']['relatedPlaylists']['uploads'])\n",
    "        all_data.append(data)\n",
    "    \n",
    "    return all_data\n"
   ]
  },
  {
   "cell_type": "code",
   "execution_count": 5,
   "metadata": {},
   "outputs": [
    {
     "data": {
      "text/html": [
       "<div>\n",
       "<style scoped>\n",
       "    .dataframe tbody tr th:only-of-type {\n",
       "        vertical-align: middle;\n",
       "    }\n",
       "\n",
       "    .dataframe tbody tr th {\n",
       "        vertical-align: top;\n",
       "    }\n",
       "\n",
       "    .dataframe thead th {\n",
       "        text-align: right;\n",
       "    }\n",
       "</style>\n",
       "<table border=\"1\" class=\"dataframe\">\n",
       "  <thead>\n",
       "    <tr style=\"text-align: right;\">\n",
       "      <th></th>\n",
       "      <th>Channel_name</th>\n",
       "      <th>Subscribers</th>\n",
       "      <th>Views</th>\n",
       "      <th>Total_videos</th>\n",
       "      <th>Playlist_id</th>\n",
       "    </tr>\n",
       "  </thead>\n",
       "  <tbody>\n",
       "    <tr>\n",
       "      <th>0</th>\n",
       "      <td>Coin Bureau</td>\n",
       "      <td>2460000</td>\n",
       "      <td>238208591</td>\n",
       "      <td>1168</td>\n",
       "      <td>UUqK_GSMbpiV8spgD3ZGloSw</td>\n",
       "    </tr>\n",
       "    <tr>\n",
       "      <th>1</th>\n",
       "      <td>Digital Asset News</td>\n",
       "      <td>350000</td>\n",
       "      <td>51419355</td>\n",
       "      <td>2053</td>\n",
       "      <td>UUJgHxpqfhWEEjYH9cLXqhIQ</td>\n",
       "    </tr>\n",
       "    <tr>\n",
       "      <th>2</th>\n",
       "      <td>Crypto Insight</td>\n",
       "      <td>2170</td>\n",
       "      <td>94950</td>\n",
       "      <td>169</td>\n",
       "      <td>UUeho-pOR48pgRS5OQVifVCA</td>\n",
       "    </tr>\n",
       "    <tr>\n",
       "      <th>3</th>\n",
       "      <td>Benjamin Cowen</td>\n",
       "      <td>797000</td>\n",
       "      <td>111725052</td>\n",
       "      <td>2209</td>\n",
       "      <td>UURvqjQPSeaWn-uEx-w0XOIg</td>\n",
       "    </tr>\n",
       "    <tr>\n",
       "      <th>4</th>\n",
       "      <td>VirtualBacon</td>\n",
       "      <td>323000</td>\n",
       "      <td>24549507</td>\n",
       "      <td>1130</td>\n",
       "      <td>UUcrEA_xd9Ldf1C8DIJYdyyA</td>\n",
       "    </tr>\n",
       "    <tr>\n",
       "      <th>5</th>\n",
       "      <td>Coinsider</td>\n",
       "      <td>296000</td>\n",
       "      <td>15478779</td>\n",
       "      <td>716</td>\n",
       "      <td>UUi7egjf0JDHuhznWugXq4hA</td>\n",
       "    </tr>\n",
       "    <tr>\n",
       "      <th>6</th>\n",
       "      <td>JRNY Crypto</td>\n",
       "      <td>608000</td>\n",
       "      <td>39066450</td>\n",
       "      <td>413</td>\n",
       "      <td>UU188KLMYLLGqVJZdYq7mYFw</td>\n",
       "    </tr>\n",
       "    <tr>\n",
       "      <th>7</th>\n",
       "      <td>Crypto Insight</td>\n",
       "      <td>606</td>\n",
       "      <td>38169</td>\n",
       "      <td>103</td>\n",
       "      <td>UUCbenQd7OteG1pG2Dn3tDMA</td>\n",
       "    </tr>\n",
       "    <tr>\n",
       "      <th>8</th>\n",
       "      <td>InvestAnswers</td>\n",
       "      <td>505000</td>\n",
       "      <td>74023620</td>\n",
       "      <td>1155</td>\n",
       "      <td>UUlgJyzwGs-GyaNxUHcLZrkg</td>\n",
       "    </tr>\n",
       "    <tr>\n",
       "      <th>9</th>\n",
       "      <td>CoinGecko</td>\n",
       "      <td>193000</td>\n",
       "      <td>6142263</td>\n",
       "      <td>669</td>\n",
       "      <td>UU-OTgwOAI7KmP0eDAtqN3Ow</td>\n",
       "    </tr>\n",
       "    <tr>\n",
       "      <th>10</th>\n",
       "      <td>Brian Jung</td>\n",
       "      <td>1780000</td>\n",
       "      <td>84602027</td>\n",
       "      <td>547</td>\n",
       "      <td>UUQglaVhGOBI0BR5S6IJnQPg</td>\n",
       "    </tr>\n",
       "    <tr>\n",
       "      <th>11</th>\n",
       "      <td>Craig Percoco</td>\n",
       "      <td>427000</td>\n",
       "      <td>12028478</td>\n",
       "      <td>243</td>\n",
       "      <td>UUL-QLzGmf468WAL1U-9g0qA</td>\n",
       "    </tr>\n",
       "    <tr>\n",
       "      <th>12</th>\n",
       "      <td>Krypto Cove</td>\n",
       "      <td>55400</td>\n",
       "      <td>3411071</td>\n",
       "      <td>244</td>\n",
       "      <td>UUAZ9PHafkZUFsGRsRPPWaxQ</td>\n",
       "    </tr>\n",
       "    <tr>\n",
       "      <th>13</th>\n",
       "      <td>Jerry Banfield Crypto</td>\n",
       "      <td>36400</td>\n",
       "      <td>2116645</td>\n",
       "      <td>243</td>\n",
       "      <td>UUuP9POBXk191J_QWpR8a0TA</td>\n",
       "    </tr>\n",
       "    <tr>\n",
       "      <th>14</th>\n",
       "      <td>Scott Melker</td>\n",
       "      <td>146000</td>\n",
       "      <td>13204337</td>\n",
       "      <td>1493</td>\n",
       "      <td>UUxIU1RFIdDpvA8VOITswQ1A</td>\n",
       "    </tr>\n",
       "    <tr>\n",
       "      <th>15</th>\n",
       "      <td>Ivan on Tech</td>\n",
       "      <td>523000</td>\n",
       "      <td>27373119</td>\n",
       "      <td>962</td>\n",
       "      <td>UUrYmtJBtLdtm2ov84ulV-yg</td>\n",
       "    </tr>\n",
       "    <tr>\n",
       "      <th>16</th>\n",
       "      <td>Francis Dhun Uncensored</td>\n",
       "      <td>43600</td>\n",
       "      <td>2174228</td>\n",
       "      <td>804</td>\n",
       "      <td>UU4RzRP-dlf-RrCl3iHQi77A</td>\n",
       "    </tr>\n",
       "    <tr>\n",
       "      <th>17</th>\n",
       "      <td>Crypto Banter</td>\n",
       "      <td>764000</td>\n",
       "      <td>121462758</td>\n",
       "      <td>2808</td>\n",
       "      <td>UUN9Nj4tjXbVTLYWN0EKly_Q</td>\n",
       "    </tr>\n",
       "  </tbody>\n",
       "</table>\n",
       "</div>"
      ],
      "text/plain": [
       "                Channel_name Subscribers      Views Total_videos  \\\n",
       "0                Coin Bureau     2460000  238208591         1168   \n",
       "1         Digital Asset News      350000   51419355         2053   \n",
       "2             Crypto Insight        2170      94950          169   \n",
       "3             Benjamin Cowen      797000  111725052         2209   \n",
       "4               VirtualBacon      323000   24549507         1130   \n",
       "5                  Coinsider      296000   15478779          716   \n",
       "6                JRNY Crypto      608000   39066450          413   \n",
       "7             Crypto Insight         606      38169          103   \n",
       "8              InvestAnswers      505000   74023620         1155   \n",
       "9                  CoinGecko      193000    6142263          669   \n",
       "10                Brian Jung     1780000   84602027          547   \n",
       "11             Craig Percoco      427000   12028478          243   \n",
       "12               Krypto Cove       55400    3411071          244   \n",
       "13     Jerry Banfield Crypto       36400    2116645          243   \n",
       "14              Scott Melker      146000   13204337         1493   \n",
       "15              Ivan on Tech      523000   27373119          962   \n",
       "16  Francis Dhun Uncensored        43600    2174228          804   \n",
       "17             Crypto Banter      764000  121462758         2808   \n",
       "\n",
       "                 Playlist_id  \n",
       "0   UUqK_GSMbpiV8spgD3ZGloSw  \n",
       "1   UUJgHxpqfhWEEjYH9cLXqhIQ  \n",
       "2   UUeho-pOR48pgRS5OQVifVCA  \n",
       "3   UURvqjQPSeaWn-uEx-w0XOIg  \n",
       "4   UUcrEA_xd9Ldf1C8DIJYdyyA  \n",
       "5   UUi7egjf0JDHuhznWugXq4hA  \n",
       "6   UU188KLMYLLGqVJZdYq7mYFw  \n",
       "7   UUCbenQd7OteG1pG2Dn3tDMA  \n",
       "8   UUlgJyzwGs-GyaNxUHcLZrkg  \n",
       "9   UU-OTgwOAI7KmP0eDAtqN3Ow  \n",
       "10  UUQglaVhGOBI0BR5S6IJnQPg  \n",
       "11  UUL-QLzGmf468WAL1U-9g0qA  \n",
       "12  UUAZ9PHafkZUFsGRsRPPWaxQ  \n",
       "13  UUuP9POBXk191J_QWpR8a0TA  \n",
       "14  UUxIU1RFIdDpvA8VOITswQ1A  \n",
       "15  UUrYmtJBtLdtm2ov84ulV-yg  \n",
       "16  UU4RzRP-dlf-RrCl3iHQi77A  \n",
       "17  UUN9Nj4tjXbVTLYWN0EKly_Q  "
      ]
     },
     "execution_count": 5,
     "metadata": {},
     "output_type": "execute_result"
    }
   ],
   "source": [
    "channel_Stats= get_chann_stats(youtube, channel_ids)\n",
    "channel_data=pd.DataFrame(channel_Stats)\n",
    "# channel_data=channel_data.sort_values(by=['Channel_name'])\n",
    "channel_data"
   ]
  },
  {
   "cell_type": "code",
   "execution_count": 6,
   "metadata": {},
   "outputs": [],
   "source": [
    "# https://www.youtube.com/watch?v=B_NQd2IeeFs\n",
    "channel_data.to_csv(\"Crypto_youtubers_for_project.csv\")"
   ]
  },
  {
   "cell_type": "code",
   "execution_count": 7,
   "metadata": {},
   "outputs": [],
   "source": [
    "def get_latest_videos(youtube, channel_ids):\n",
    "    all_data = []\n",
    "    for channel_id in channel_ids:\n",
    "        request = youtube.search().list(\n",
    "            part=\"snippet\",\n",
    "            channelId=channel_id,\n",
    "            maxResults=5,\n",
    "            order=\"date\"\n",
    "        )\n",
    "        response = request.execute()\n",
    "        \n",
    "        for item in response[\"items\"]:\n",
    "            data = {\n",
    "                \"Channel_name\": response[\"items\"][0][\"snippet\"][\"channelTitle\"],\n",
    "                \"Video_title\": item[\"snippet\"][\"title\"],\n",
    "                \"Video_url\": f\"https://www.youtube.com/watch?v={item['id']['videoId']}\"\n",
    "            }\n",
    "            all_data.append(data)\n",
    "    \n",
    "    return pd.DataFrame(all_data)\n",
    "\n",
    "# channel_stats = get_chann_stats(youtube, channel_ids)\n",
    "latest_videos = get_latest_videos(youtube, channel_ids)\n"
   ]
  },
  {
   "cell_type": "code",
   "execution_count": 8,
   "metadata": {},
   "outputs": [
    {
     "data": {
      "text/html": [
       "<div>\n",
       "<style scoped>\n",
       "    .dataframe tbody tr th:only-of-type {\n",
       "        vertical-align: middle;\n",
       "    }\n",
       "\n",
       "    .dataframe tbody tr th {\n",
       "        vertical-align: top;\n",
       "    }\n",
       "\n",
       "    .dataframe thead th {\n",
       "        text-align: right;\n",
       "    }\n",
       "</style>\n",
       "<table border=\"1\" class=\"dataframe\">\n",
       "  <thead>\n",
       "    <tr style=\"text-align: right;\">\n",
       "      <th></th>\n",
       "      <th>Channel_name</th>\n",
       "      <th>Video_title</th>\n",
       "      <th>Video_url</th>\n",
       "    </tr>\n",
       "  </thead>\n",
       "  <tbody>\n",
       "    <tr>\n",
       "      <th>0</th>\n",
       "      <td>Benjamin Cowen</td>\n",
       "      <td>Bitcoin: Bull Market Support Band</td>\n",
       "      <td>https://www.youtube.com/watch?v=gzNTTBlbDTA</td>\n",
       "    </tr>\n",
       "    <tr>\n",
       "      <th>1</th>\n",
       "      <td>Benjamin Cowen</td>\n",
       "      <td>Bitcoin Dominance</td>\n",
       "      <td>https://www.youtube.com/watch?v=Px4tLjAQNV0</td>\n",
       "    </tr>\n",
       "    <tr>\n",
       "      <th>2</th>\n",
       "      <td>Benjamin Cowen</td>\n",
       "      <td>Bitcoin: The Beauty of Mathematics (Part 45)</td>\n",
       "      <td>https://www.youtube.com/watch?v=qMIwh7UoPMo</td>\n",
       "    </tr>\n",
       "    <tr>\n",
       "      <th>3</th>\n",
       "      <td>Benjamin Cowen</td>\n",
       "      <td>Ethereum: Dubious Speculation</td>\n",
       "      <td>https://www.youtube.com/watch?v=doNwL_epMf0</td>\n",
       "    </tr>\n",
       "    <tr>\n",
       "      <th>4</th>\n",
       "      <td>Benjamin Cowen</td>\n",
       "      <td>Bitcoin: Dubious Speculation (The Movie)</td>\n",
       "      <td>https://www.youtube.com/watch?v=eQFG_CwikjQ</td>\n",
       "    </tr>\n",
       "  </tbody>\n",
       "</table>\n",
       "</div>"
      ],
      "text/plain": [
       "     Channel_name                                   Video_title  \\\n",
       "0  Benjamin Cowen             Bitcoin: Bull Market Support Band   \n",
       "1  Benjamin Cowen                             Bitcoin Dominance   \n",
       "2  Benjamin Cowen  Bitcoin: The Beauty of Mathematics (Part 45)   \n",
       "3  Benjamin Cowen                 Ethereum: Dubious Speculation   \n",
       "4  Benjamin Cowen      Bitcoin: Dubious Speculation (The Movie)   \n",
       "\n",
       "                                     Video_url  \n",
       "0  https://www.youtube.com/watch?v=gzNTTBlbDTA  \n",
       "1  https://www.youtube.com/watch?v=Px4tLjAQNV0  \n",
       "2  https://www.youtube.com/watch?v=qMIwh7UoPMo  \n",
       "3  https://www.youtube.com/watch?v=doNwL_epMf0  \n",
       "4  https://www.youtube.com/watch?v=eQFG_CwikjQ  "
      ]
     },
     "execution_count": 8,
     "metadata": {},
     "output_type": "execute_result"
    }
   ],
   "source": [
    "latest_videos.head()"
   ]
  },
  {
   "cell_type": "code",
   "execution_count": 9,
   "metadata": {},
   "outputs": [],
   "source": [
    "latest_videos.to_csv('latest_videos_of_each_youtuber.csv')"
   ]
  },
  {
   "cell_type": "code",
   "execution_count": 10,
   "metadata": {},
   "outputs": [],
   "source": [
    "# loading video transcripts\n",
    "\n",
    "loader = YoutubeLoader.from_youtube_url(\"https://www.youtube.com/watch?v=B_NQd2IeeFs\", add_video_info=True)\n",
    "result = loader.load()"
   ]
  },
  {
   "cell_type": "code",
   "execution_count": 11,
   "metadata": {},
   "outputs": [],
   "source": [
    "transcript = result[0].page_content"
   ]
  },
  {
   "cell_type": "code",
   "execution_count": 12,
   "metadata": {},
   "outputs": [],
   "source": [
    "metadata = result[0].metadata"
   ]
  },
  {
   "cell_type": "code",
   "execution_count": 13,
   "metadata": {},
   "outputs": [],
   "source": [
    "metadata['source'] = 'https://www.youtube.com/watch?v=' + metadata['source']\n",
    "del metadata['description']\n",
    "del metadata['thumbnail_url']\n",
    "del metadata['length']"
   ]
  },
  {
   "cell_type": "code",
   "execution_count": 48,
   "metadata": {},
   "outputs": [
    {
     "data": {
      "text/plain": [
       "{'source': 'https://www.youtube.com/watch?v=B_NQd2IeeFs',\n",
       " 'title': 'Layer two token portfolio recommendations - Part 5',\n",
       " 'view_count': 492,\n",
       " 'publish_date': '2024-01-28 00:00:00',\n",
       " 'author': 'Dave Levine Dot Com'}"
      ]
     },
     "execution_count": 48,
     "metadata": {},
     "output_type": "execute_result"
    }
   ],
   "source": [
    "metadata"
   ]
  },
  {
   "cell_type": "code",
   "execution_count": null,
   "metadata": {},
   "outputs": [],
   "source": [
    "# text_splitter = RecursiveCharacterTextSplitter(chunk_size = 2000, chunk_overlap= 25)\n",
    "\n",
    "# texts = text_splitter.split_documents(transcript)"
   ]
  },
  {
   "cell_type": "code",
   "execution_count": 74,
   "metadata": {},
   "outputs": [
    {
     "name": "stdout",
     "output_type": "stream",
     "text": [
      "Message(id='msg_019fQRq5HzKd4d42ZxbNReyf', content=[TextBlock(text='¡Hola! Es un placer conocerte. ¿Cómo puedo ayudarte hoy?', type='text')], model='claude-3-haiku-20240307', role='assistant', stop_reason='end_turn', stop_sequence=None, type='message', usage=Usage(input_tokens=17, output_tokens=32))\n"
     ]
    }
   ],
   "source": [
    "import anthropic\n",
    "\n",
    "MODEL_NAME = \"claude-3-haiku-20240307\"\n",
    "client = anthropic.Client( api_key= os.environ.get('ANTHROPIC_API_KEY'))\n",
    "\n",
    "load_dotenv()\n",
    "response = client.messages.create(\n",
    "    model = MODEL_NAME,\n",
    "    system=\"Respond only in Spanish.\", # <-- system prompt\n",
    "    # api_key= os.environ.get('ANTHROPIC_API_KEY'),\n",
    "    messages=[\n",
    "        {\n",
    "            \"role\": \"user\", \n",
    "            \"content\": \"Hello, Claude!\"\n",
    "            } # <-- user prompt\n",
    "    ],\n",
    "    # stream=True,\n",
    "    temperature=0.01, # This parameter controls the \"creativity\" or \"randomness\" of the model's text generation.\n",
    "    max_tokens=80,\n",
    "    top_p=0.9\n",
    ")\n",
    "\n",
    "\n"
   ]
  },
  {
   "cell_type": "code",
   "execution_count": 81,
   "metadata": {},
   "outputs": [
    {
     "name": "stdout",
     "output_type": "stream",
     "text": [
      "¡Hola! Es un placer conocerte. ¿Cómo puedo ayudarte hoy?\n"
     ]
    }
   ],
   "source": [
    "print(response.content[0].text)"
   ]
  },
  {
   "cell_type": "code",
   "execution_count": 67,
   "metadata": {},
   "outputs": [
    {
     "name": "stdout",
     "output_type": "stream",
     "text": [
      "[TextBlock(text='Hello! How can I assist you today?', type='text')]\n"
     ]
    }
   ],
   "source": [
    "import anthropic\n",
    "load_dotenv()\n",
    "client = anthropic.Anthropic(\n",
    "    # # defaults to os.environ.get(\"ANTHROPIC_API_KEY\")\n",
    "    api_key = os.environ.get('ANTHROPIC_API_KEY'),\n",
    ")\n",
    "message = client.messages.create(\n",
    "    model= MODEL_NAME,\n",
    "    max_tokens=1024,\n",
    "    messages=[\n",
    "        {\"role\": \"user\", \"content\": \"Hello, Claude\"}\n",
    "    ]\n",
    ")\n",
    "print(message.content)\n"
   ]
  },
  {
   "cell_type": "code",
   "execution_count": null,
   "metadata": {},
   "outputs": [],
   "source": []
  },
  {
   "cell_type": "code",
   "execution_count": null,
   "metadata": {},
   "outputs": [],
   "source": []
  },
  {
   "cell_type": "code",
   "execution_count": null,
   "metadata": {},
   "outputs": [],
   "source": []
  },
  {
   "cell_type": "code",
   "execution_count": null,
   "metadata": {},
   "outputs": [],
   "source": []
  },
  {
   "cell_type": "code",
   "execution_count": null,
   "metadata": {},
   "outputs": [],
   "source": []
  },
  {
   "cell_type": "code",
   "execution_count": null,
   "metadata": {},
   "outputs": [],
   "source": []
  },
  {
   "cell_type": "code",
   "execution_count": null,
   "metadata": {},
   "outputs": [],
   "source": []
  },
  {
   "cell_type": "code",
   "execution_count": null,
   "metadata": {},
   "outputs": [],
   "source": []
  },
  {
   "cell_type": "code",
   "execution_count": null,
   "metadata": {},
   "outputs": [],
   "source": []
  },
  {
   "cell_type": "code",
   "execution_count": null,
   "metadata": {},
   "outputs": [],
   "source": []
  },
  {
   "cell_type": "code",
   "execution_count": null,
   "metadata": {},
   "outputs": [],
   "source": []
  },
  {
   "cell_type": "code",
   "execution_count": null,
   "metadata": {},
   "outputs": [],
   "source": []
  },
  {
   "cell_type": "code",
   "execution_count": null,
   "metadata": {},
   "outputs": [],
   "source": []
  },
  {
   "cell_type": "code",
   "execution_count": null,
   "metadata": {},
   "outputs": [],
   "source": []
  },
  {
   "cell_type": "code",
   "execution_count": 50,
   "metadata": {},
   "outputs": [],
   "source": [
    "# load_dotenv()\n",
    "# octoai_api_key = os.getenv('OCTOAI_API_TOKEN')"
   ]
  },
  {
   "cell_type": "code",
   "execution_count": null,
   "metadata": {},
   "outputs": [],
   "source": []
  }
 ],
 "metadata": {
  "kernelspec": {
   "display_name": "Python 3",
   "language": "python",
   "name": "python3"
  },
  "language_info": {
   "codemirror_mode": {
    "name": "ipython",
    "version": 3
   },
   "file_extension": ".py",
   "mimetype": "text/x-python",
   "name": "python",
   "nbconvert_exporter": "python",
   "pygments_lexer": "ipython3",
   "version": "3.10.12"
  }
 },
 "nbformat": 4,
 "nbformat_minor": 2
}
