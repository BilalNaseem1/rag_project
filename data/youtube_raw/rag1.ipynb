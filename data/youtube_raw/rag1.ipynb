{
 "cells": [
  {
   "cell_type": "code",
   "execution_count": 42,
   "metadata": {},
   "outputs": [],
   "source": [
    "import pandas as pd\n",
    "from uuid import uuid4\n",
    "import ast\n",
    "import numpy as np\n",
    "import itertools"
   ]
  },
  {
   "cell_type": "code",
   "execution_count": 43,
   "metadata": {},
   "outputs": [],
   "source": [
    "data = pd.read_csv('benj_cowen_290_w_cohere_embeddings2.csv')"
   ]
  },
  {
   "cell_type": "code",
   "execution_count": 44,
   "metadata": {},
   "outputs": [],
   "source": [
    "data['embeddings'] = data['embeddings'].apply(lambda x: np.array(ast.literal_eval(x)))"
   ]
  },
  {
   "cell_type": "code",
   "execution_count": 45,
   "metadata": {},
   "outputs": [],
   "source": [
    "data[\"id\"] = [str(uuid4()) for _ in range(len(data))]"
   ]
  },
  {
   "cell_type": "code",
   "execution_count": 46,
   "metadata": {},
   "outputs": [
    {
     "data": {
      "text/html": [
       "<div>\n",
       "<style scoped>\n",
       "    .dataframe tbody tr th:only-of-type {\n",
       "        vertical-align: middle;\n",
       "    }\n",
       "\n",
       "    .dataframe tbody tr th {\n",
       "        vertical-align: top;\n",
       "    }\n",
       "\n",
       "    .dataframe thead th {\n",
       "        text-align: right;\n",
       "    }\n",
       "</style>\n",
       "<table border=\"1\" class=\"dataframe\">\n",
       "  <thead>\n",
       "    <tr style=\"text-align: right;\">\n",
       "      <th></th>\n",
       "      <th>Author</th>\n",
       "      <th>title</th>\n",
       "      <th>url</th>\n",
       "      <th>Transcript</th>\n",
       "      <th>Type</th>\n",
       "      <th>Publish_Date</th>\n",
       "      <th>ChunkIndex</th>\n",
       "      <th>tokens</th>\n",
       "      <th>embeddings</th>\n",
       "      <th>id</th>\n",
       "    </tr>\n",
       "  </thead>\n",
       "  <tbody>\n",
       "    <tr>\n",
       "      <th>0</th>\n",
       "      <td>Benjamin Cowen</td>\n",
       "      <td>S&amp;amp;P 500 Outlook</td>\n",
       "      <td>https://www.youtube.com/watch?v=urgVQ-ltTf8</td>\n",
       "      <td>hey everyone and thanks for jumping back into ...</td>\n",
       "      <td>Youtube video</td>\n",
       "      <td>2024-04-23 00:00:00</td>\n",
       "      <td>0</td>\n",
       "      <td>334</td>\n",
       "      <td>[0.084472656, 0.014717102, 0.005355835, -0.011...</td>\n",
       "      <td>816d87cb-5d12-4066-9ee0-b0c258e698a1</td>\n",
       "    </tr>\n",
       "    <tr>\n",
       "      <th>1</th>\n",
       "      <td>Benjamin Cowen</td>\n",
       "      <td>S&amp;amp;P 500 Outlook</td>\n",
       "      <td>https://www.youtube.com/watch?v=urgVQ-ltTf8</td>\n",
       "      <td>market does tend to cool off in about Q3 of th...</td>\n",
       "      <td>Youtube video</td>\n",
       "      <td>2024-04-23 00:00:00</td>\n",
       "      <td>1</td>\n",
       "      <td>325</td>\n",
       "      <td>[0.03765869, 0.023986816, -0.0019874573, 0.006...</td>\n",
       "      <td>8b033ba1-1e8d-4172-9049-8725960824f3</td>\n",
       "    </tr>\n",
       "    <tr>\n",
       "      <th>2</th>\n",
       "      <td>Benjamin Cowen</td>\n",
       "      <td>S&amp;amp;P 500 Outlook</td>\n",
       "      <td>https://www.youtube.com/watch?v=urgVQ-ltTf8</td>\n",
       "      <td>local low the S&amp;P is already up about 2.2% so ...</td>\n",
       "      <td>Youtube video</td>\n",
       "      <td>2024-04-23 00:00:00</td>\n",
       "      <td>2</td>\n",
       "      <td>339</td>\n",
       "      <td>[0.072509766, 0.043029785, -0.020309448, -0.04...</td>\n",
       "      <td>799152e5-b950-4725-8db8-5d761064f1f8</td>\n",
       "    </tr>\n",
       "    <tr>\n",
       "      <th>3</th>\n",
       "      <td>Benjamin Cowen</td>\n",
       "      <td>S&amp;amp;P 500 Outlook</td>\n",
       "      <td>https://www.youtube.com/watch?v=urgVQ-ltTf8</td>\n",
       "      <td>moves up gets a pullback and then get sort of ...</td>\n",
       "      <td>Youtube video</td>\n",
       "      <td>2024-04-23 00:00:00</td>\n",
       "      <td>3</td>\n",
       "      <td>330</td>\n",
       "      <td>[0.078063965, 0.024459839, -0.0039367676, -0.0...</td>\n",
       "      <td>ad348bbc-8e93-4996-a989-8d94cee075df</td>\n",
       "    </tr>\n",
       "    <tr>\n",
       "      <th>4</th>\n",
       "      <td>Benjamin Cowen</td>\n",
       "      <td>S&amp;amp;P 500 Outlook</td>\n",
       "      <td>https://www.youtube.com/watch?v=urgVQ-ltTf8</td>\n",
       "      <td>about this is you can overlay uh you can overl...</td>\n",
       "      <td>Youtube video</td>\n",
       "      <td>2024-04-23 00:00:00</td>\n",
       "      <td>4</td>\n",
       "      <td>360</td>\n",
       "      <td>[0.09057617, 0.009765625, 0.005191803, -0.0337...</td>\n",
       "      <td>3c51efaf-03f1-4a9f-9e13-6c89a302095c</td>\n",
       "    </tr>\n",
       "  </tbody>\n",
       "</table>\n",
       "</div>"
      ],
      "text/plain": [
       "           Author                title  \\\n",
       "0  Benjamin Cowen  S&amp;P 500 Outlook   \n",
       "1  Benjamin Cowen  S&amp;P 500 Outlook   \n",
       "2  Benjamin Cowen  S&amp;P 500 Outlook   \n",
       "3  Benjamin Cowen  S&amp;P 500 Outlook   \n",
       "4  Benjamin Cowen  S&amp;P 500 Outlook   \n",
       "\n",
       "                                           url  \\\n",
       "0  https://www.youtube.com/watch?v=urgVQ-ltTf8   \n",
       "1  https://www.youtube.com/watch?v=urgVQ-ltTf8   \n",
       "2  https://www.youtube.com/watch?v=urgVQ-ltTf8   \n",
       "3  https://www.youtube.com/watch?v=urgVQ-ltTf8   \n",
       "4  https://www.youtube.com/watch?v=urgVQ-ltTf8   \n",
       "\n",
       "                                          Transcript           Type  \\\n",
       "0  hey everyone and thanks for jumping back into ...  Youtube video   \n",
       "1  market does tend to cool off in about Q3 of th...  Youtube video   \n",
       "2  local low the S&P is already up about 2.2% so ...  Youtube video   \n",
       "3  moves up gets a pullback and then get sort of ...  Youtube video   \n",
       "4  about this is you can overlay uh you can overl...  Youtube video   \n",
       "\n",
       "          Publish_Date  ChunkIndex  tokens  \\\n",
       "0  2024-04-23 00:00:00           0     334   \n",
       "1  2024-04-23 00:00:00           1     325   \n",
       "2  2024-04-23 00:00:00           2     339   \n",
       "3  2024-04-23 00:00:00           3     330   \n",
       "4  2024-04-23 00:00:00           4     360   \n",
       "\n",
       "                                          embeddings  \\\n",
       "0  [0.084472656, 0.014717102, 0.005355835, -0.011...   \n",
       "1  [0.03765869, 0.023986816, -0.0019874573, 0.006...   \n",
       "2  [0.072509766, 0.043029785, -0.020309448, -0.04...   \n",
       "3  [0.078063965, 0.024459839, -0.0039367676, -0.0...   \n",
       "4  [0.09057617, 0.009765625, 0.005191803, -0.0337...   \n",
       "\n",
       "                                     id  \n",
       "0  816d87cb-5d12-4066-9ee0-b0c258e698a1  \n",
       "1  8b033ba1-1e8d-4172-9049-8725960824f3  \n",
       "2  799152e5-b950-4725-8db8-5d761064f1f8  \n",
       "3  ad348bbc-8e93-4996-a989-8d94cee075df  \n",
       "4  3c51efaf-03f1-4a9f-9e13-6c89a302095c  "
      ]
     },
     "execution_count": 46,
     "metadata": {},
     "output_type": "execute_result"
    }
   ],
   "source": [
    "data.head()"
   ]
  },
  {
   "cell_type": "code",
   "execution_count": 47,
   "metadata": {},
   "outputs": [
    {
     "data": {
      "text/plain": [
       "(4408, 10)"
      ]
     },
     "execution_count": 47,
     "metadata": {},
     "output_type": "execute_result"
    }
   ],
   "source": [
    "data.shape"
   ]
  },
  {
   "cell_type": "code",
   "execution_count": 48,
   "metadata": {},
   "outputs": [
    {
     "data": {
      "text/plain": [
       "1024"
      ]
     },
     "execution_count": 48,
     "metadata": {},
     "output_type": "execute_result"
    }
   ],
   "source": [
    "len(data.embeddings[0])"
   ]
  },
  {
   "cell_type": "code",
   "execution_count": 49,
   "metadata": {},
   "outputs": [],
   "source": [
    "import pandas as pd\n",
    "\n",
    "# Assuming 'data' is your DataFrame\n",
    "data_dict_list = []\n",
    "\n",
    "for index, row in data.iterrows():\n",
    "    data_dict = {\n",
    "        \"id\": row['id'],\n",
    "        \"values\": row['embeddings'],\n",
    "        \"metadata\": {\n",
    "            \"text\": row['Transcript'],\n",
    "            \"Author\": row['Author'],\n",
    "            \"title\": row['title'],\n",
    "            \"url\": row['url'],\n",
    "            \"Type\": row['Type'],\n",
    "            \"Publish_Date\": str(row['Publish_Date']),\n",
    "        }\n",
    "    }\n",
    "    data_dict_list.append(data_dict)\n",
    "\n"
   ]
  },
  {
   "cell_type": "code",
   "execution_count": 50,
   "metadata": {},
   "outputs": [
    {
     "data": {
      "text/plain": [
       "[{'id': '816d87cb-5d12-4066-9ee0-b0c258e698a1',\n",
       "  'values': array([ 0.08447266,  0.0147171 ,  0.00535583, ..., -0.10150146,\n",
       "         -0.04998779, -0.00912476]),\n",
       "  'metadata': {'text': \"hey everyone and thanks for jumping back into the equity verse today we're going to talk about the S&P 500 and we're just going to be providing a General Market Outlook if you guys like the content make sure you subscribe to the channel give the video a thumbs up and also check out into the cryptoverse premium at into the cryptoverse decom I wanted to just provide some thoughts about the S&P 500 it has been a little while and of course we are coming into that time of the year of pre-election years where the market does tend to cool off just a little bit uh we talked about this in the last video and now you can see that it is starting to transpire a little bit if you're unfamiliar with what I'm talking about if you look at say the year-to-date Roi of the S&P 500 in election years right if you look at the election year average you'll often see that by about day 145 to 150 the market sets a low okay now currently we are on day what 114 about 114 or so um and so we're not quite there yet but we have already seen about a 6% drop so this is very similar seasonality that we even talked about late last year if you guys remember back during the summer of the pre-election year I suggested that we could get a 5 to 10% correction in the S&P 500 thanks to General seasonality right and if you go back and you look at what happened in 2023 you can see that we did get that you know that that correction and if you overlay it with pre-election years on average right you can see that the market\",\n",
       "   'Author': 'Benjamin Cowen',\n",
       "   'title': 'S&amp;P 500 Outlook',\n",
       "   'url': 'https://www.youtube.com/watch?v=urgVQ-ltTf8',\n",
       "   'Type': 'Youtube video',\n",
       "   'Publish_Date': '2024-04-23 00:00:00'}},\n",
       " {'id': '8b033ba1-1e8d-4172-9049-8725960824f3',\n",
       "  'values': array([ 0.03765869,  0.02398682, -0.00198746, ..., -0.07781982,\n",
       "         -0.03811646,  0.01082611]),\n",
       "  'metadata': {'text': \"market does tend to cool off in about Q3 of the pre-election year so we did get that 5 to 10% correction back then now while we did talk about that I said pretty quickly after Yellen issued shorter duration than the market was expecting and they essentially kicked the can down the road uh by a lot of measures that was basically bullish uh for the stock market because it was bearish for for bonds right I mean I I I think if she had issued longer duration that that correction could have theoretically continued but when she issued short iteration it was not the best outlook for for the bond market and so the bond market then fell right if you go look if you overlay the tenure onto the chart you can see that the 10year topped out right there and then the 10e came down all right so the 10year yield came down so what you'll notice is that this correction over here corresponded to the 10e breaking to the upside we're also we just saw a 6% correction right here and you'll notice that it's corresponding to the 10-year yield moving back up to the upside so as the long into the old curve goes up it puts pressure on risk assets now so far all we've really seen is a fairly modest correction right now you may notice back over here in July the very first pullback was about a 6% pullback to that bull market support band very similar pullback right here right about a 6% pullback to the 20we SMA following that though the S&P then rallied back up about 5% now from where we found this local low\",\n",
       "   'Author': 'Benjamin Cowen',\n",
       "   'title': 'S&amp;P 500 Outlook',\n",
       "   'url': 'https://www.youtube.com/watch?v=urgVQ-ltTf8',\n",
       "   'Type': 'Youtube video',\n",
       "   'Publish_Date': '2024-04-23 00:00:00'}},\n",
       " {'id': '799152e5-b950-4725-8db8-5d761064f1f8',\n",
       "  'values': array([ 0.07250977,  0.04302979, -0.02030945, ..., -0.03863525,\n",
       "         -0.05395508,  0.01673889]),\n",
       "  'metadata': {'text': \"local low the S&P is already up about 2.2% so it already has rally up off that low sum a 5% rally would actually take it all the way back up to around 5200 but what you'll notice is that it essentially sort of zigzagged its way down for about three months right I mean this this really started in July and it ended in late October Right started I guess mid July so you had August September and then it bottomed out in in late October it was about a 3mon correction or so that ultimately saw the S&P drop about 11% so it actually dropped a little bit more than I think what I suggested I said about a 5 to 10% drop back then it actually dropped about 11% um and so then of course you know Yellen issuing short iteration we saw the S&P climb on all the way back up and now it is once again SED to finded a little bit of weakness but remember there's often times some seasonal weakness around that April sort of that March April ail May time frame in the S&P 500 um again here is showing this year with the average of Prior election years and on average you know we sort of set a low sometime way out over here and if you compare this year to other years might not be that interesting to compare it to 2020 because that was the the pandemic year but if you look at other years like 2016 you can see that it followed a similar script right kind of moving up and then sort of settling back down into May and June uh 2012 is almost a carbon copy of what we're seeing right now where it sort of moves up\",\n",
       "   'Author': 'Benjamin Cowen',\n",
       "   'title': 'S&amp;P 500 Outlook',\n",
       "   'url': 'https://www.youtube.com/watch?v=urgVQ-ltTf8',\n",
       "   'Type': 'Youtube video',\n",
       "   'Publish_Date': '2024-04-23 00:00:00'}}]"
      ]
     },
     "execution_count": 50,
     "metadata": {},
     "output_type": "execute_result"
    }
   ],
   "source": [
    "data_dict_list[:3]"
   ]
  },
  {
   "cell_type": "code",
   "execution_count": 51,
   "metadata": {},
   "outputs": [],
   "source": [
    "from pinecone import ServerlessSpec, PodSpec, Pinecone\n",
    "spec = ServerlessSpec(cloud='aws', region='us-west-2')\n",
    "\n",
    "api_key = \"805b93a4-7e60-47df-9184-537be20493ce\"\n",
    "# configuring client\n",
    "pc = Pinecone(api_key=api_key)\n",
    "\n",
    "\n",
    "import time\n"
   ]
  },
  {
   "cell_type": "code",
   "execution_count": 52,
   "metadata": {},
   "outputs": [],
   "source": [
    "pc.delete_index(\"benjamin-cowen-cohere-raw1\")"
   ]
  },
  {
   "cell_type": "code",
   "execution_count": 53,
   "metadata": {},
   "outputs": [
    {
     "data": {
      "text/plain": [
       "{'indexes': []}"
      ]
     },
     "execution_count": 53,
     "metadata": {},
     "output_type": "execute_result"
    }
   ],
   "source": [
    "pc.list_indexes()"
   ]
  },
  {
   "cell_type": "code",
   "execution_count": 54,
   "metadata": {},
   "outputs": [],
   "source": [
    "# pc.delete_index(\"benjamin-cowen-cohere-youtube\")\n",
    "# pc.delete_index(\"benjamin-cowen-youtube\")\n",
    "# pc.delete_index(\"sample-movies\")\n",
    "# pc.delete_index(\"youtube-chatbot-agent\")"
   ]
  },
  {
   "cell_type": "code",
   "execution_count": 55,
   "metadata": {},
   "outputs": [
    {
     "data": {
      "text/plain": [
       "((4408, 10), 4408)"
      ]
     },
     "execution_count": 55,
     "metadata": {},
     "output_type": "execute_result"
    }
   ],
   "source": [
    "data.shape, len(data_dict_list)"
   ]
  },
  {
   "cell_type": "code",
   "execution_count": 56,
   "metadata": {},
   "outputs": [],
   "source": [
    "# data_dict_list.to_json('benj_cowen_raw290.jsonl', orient=\"records\", lines=True)\n",
    "import json\n",
    "\n",
    "# with open(\"benj_cowen_raw290.jsonl\", \"w\") as f:\n",
    "#     for item in data_dict_list:\n",
    "#         json.dump(item, f)\n",
    "#         f.write(\"\\n\")\n",
    "\n",
    "\n",
    "with open(\"benj_cowen_raw290_w_text.jsonl\", \"w\") as f:\n",
    "    for item in data_dict_list:\n",
    "        # Convert NumPy arrays to lists\n",
    "        for key, value in item.items():\n",
    "            if isinstance(value, np.ndarray):\n",
    "                item[key] = value.tolist()\n",
    "\n",
    "        # Serialize the dictionary to JSON and write to file\n",
    "        json.dump(item, f)\n",
    "        f.write(\"\\n\")\n"
   ]
  },
  {
   "cell_type": "code",
   "execution_count": 57,
   "metadata": {},
   "outputs": [],
   "source": [
    "import json\n",
    "\n",
    "def process_jsonl(file_path):\n",
    "    data = []\n",
    "    with open(file_path, 'r') as f:\n",
    "        for line in f:\n",
    "            data.append(json.loads(line))\n",
    "    return data\n",
    "\n",
    "jsonl_data = process_jsonl('benj_cowen_raw290_w_text.jsonl')"
   ]
  },
  {
   "cell_type": "code",
   "execution_count": 58,
   "metadata": {},
   "outputs": [
    {
     "data": {
      "text/plain": [
       "4408"
      ]
     },
     "execution_count": 58,
     "metadata": {},
     "output_type": "execute_result"
    }
   ],
   "source": [
    "len(jsonl_data)"
   ]
  },
  {
   "cell_type": "code",
   "execution_count": 59,
   "metadata": {},
   "outputs": [],
   "source": [
    "import time\n",
    "\n",
    "index_name = 'benjamin-cowen-cohere-raw1'\n",
    "\n",
    "dimensions = 1024\n",
    "if index_name not in pc.list_indexes().names():\n",
    "    pc.create_index(\n",
    "        name= index_name,\n",
    "        dimension = dimensions,\n",
    "        metric = \"cosine\",\n",
    "        spec=spec\n",
    "        )\n",
    "\n",
    "# wait for index to be ready before connecting - cell not finish\n",
    "while not pc.describe_index(index_name).status['ready']:\n",
    "    time.sleep(1)"
   ]
  },
  {
   "cell_type": "code",
   "execution_count": 60,
   "metadata": {},
   "outputs": [],
   "source": [
    "vector_dim = 1024\n",
    "vector_count = 4408\n",
    "\n",
    "def chunks(iterable, batch_size=100):\n",
    "    \"\"\"A helper function to break an iterable into chunks of size batch_size.\"\"\"\n",
    "    it = iter(iterable)\n",
    "    chunk = tuple(itertools.islice(it, batch_size))\n",
    "    while chunk:\n",
    "        yield chunk\n",
    "        chunk = tuple(itertools.islice(it, batch_size))\n",
    "\n",
    "\n",
    "with pc.Index('benjamin-cowen-cohere-raw1', pool_threads=30) as index:\n",
    "    # Send requests in parallel\n",
    "    async_results = [\n",
    "        index.upsert(vectors=ids_vectors_chunk, async_req=True)\n",
    "        for ids_vectors_chunk in chunks(jsonl_data, batch_size=100)\n",
    "    ]\n",
    "    [async_result.get() for async_result in async_results]"
   ]
  },
  {
   "cell_type": "code",
   "execution_count": null,
   "metadata": {},
   "outputs": [],
   "source": []
  }
 ],
 "metadata": {
  "kernelspec": {
   "display_name": "my_virtual_env",
   "language": "python",
   "name": "python3"
  },
  "language_info": {
   "codemirror_mode": {
    "name": "ipython",
    "version": 3
   },
   "file_extension": ".py",
   "mimetype": "text/x-python",
   "name": "python",
   "nbconvert_exporter": "python",
   "pygments_lexer": "ipython3",
   "version": "3.10.12"
  }
 },
 "nbformat": 4,
 "nbformat_minor": 2
}
